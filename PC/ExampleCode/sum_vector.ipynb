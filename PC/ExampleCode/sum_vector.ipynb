{
  "nbformat": 4,
  "nbformat_minor": 0,
  "metadata": {
    "colab": {
      "private_outputs": true,
      "provenance": []
    },
    "kernelspec": {
      "name": "python3",
      "display_name": "Python 3"
    },
    "language_info": {
      "name": "python"
    },
    "accelerator": "GPU"
  },
  "cells": [
    {
      "cell_type": "markdown",
      "source": [
        "# **Colab configuration**"
      ],
      "metadata": {
        "id": "xeBe6GGhUiOB"
      }
    },
    {
      "cell_type": "code",
      "execution_count": null,
      "metadata": {
        "id": "C-6lRwjQynll"
      },
      "outputs": [],
      "source": [
        "!wget https://github.com/ispc/ispc/releases/download/v1.18.0/ispc-v1.18.0-linux.tar.gz\n",
        "!tar xvf ispc-v1.18.0-linux.tar.gz\n",
        "!mkdir /content/sum_vector"
      ]
    },
    {
      "cell_type": "markdown",
      "source": [
        "# Sum of vectors elements: reduction algorithm"
      ],
      "metadata": {
        "id": "r-_nPBf1fDET"
      }
    },
    {
      "cell_type": "code",
      "source": [
        "%%writefile  /content/sum_vector/sum_vector.cpp\n",
        "#include <stdio.h>\n",
        "#include <stdlib.h>\n",
        "\n",
        "#include \"sum_vector_ispc.h\"\n",
        "#include \"timing.h\"\n",
        "\n",
        "#define NDATA (1<<15)\n",
        "\n",
        "using namespace ispc;\n",
        "\n",
        "int main() {\n",
        "    double vin[NDATA], res=0;\n",
        "\n",
        "    // Initialize input buffer\n",
        "    for (int i = 0; i < NDATA; ++i)\n",
        "        vin[i] = (double)i;\n",
        "    reset_and_start_timer();\n",
        "    for (int i = 0; i < NDATA; ++i)\n",
        "        res += vin[i];\n",
        "    double tser = get_elapsed_mcycles();\n",
        "    printf(\"@time of serial run:\\t\\t\\t\\t[%.3f] million cycles\\n\", tser);\n",
        "    printf(\"res = %f\\n\", res);\n",
        "\n",
        "    // Call simple() function from simple.ispc file\n",
        "    reset_and_start_timer();\n",
        "    res = sum_vector(vin, NDATA);\n",
        "    double tpar = get_elapsed_mcycles();\n",
        "    printf(\"@time of parallel run:\\t\\t\\t\\t[%.3f] million cycles\\n\", tpar);\n",
        "    printf(\"@speedup=%f\\n\", tser/tpar);\n",
        "    printf(\"res = %f\\n\", res);\n",
        "\n",
        "    return 0;\n",
        "}"
      ],
      "metadata": {
        "id": "gK1ZRONzzwFU"
      },
      "execution_count": null,
      "outputs": []
    },
    {
      "cell_type": "code",
      "source": [
        "%%writefile  /content/sum_vector/sum_vector.ispc\n",
        "export uniform double sum_vector(uniform double A[], uniform int n)\n",
        "{\n",
        "  double sum = 0;\n",
        "  foreach (i = 0 ... n)\n",
        "        sum += A[i];\n",
        "  return reduce_add(sum);\n",
        "}\n",
        "\n"
      ],
      "metadata": {
        "id": "mO1fwmDP0lA6"
      },
      "execution_count": null,
      "outputs": []
    },
    {
      "cell_type": "markdown",
      "source": [
        "# Code compilation with ISPC\n",
        "Documentation on ISPC compiler can be found at: [link to ISPC](https://ispc.github.io/index.html)"
      ],
      "metadata": {
        "id": "VmqRaa58fUp9"
      }
    },
    {
      "cell_type": "code",
      "source": [
        "%%writefile  /content/sum_vector/script.sh\n",
        "#!/bin/bash\n",
        "\n",
        "rm -f /content/sum_vector/sum_vector_ispc.h\n",
        "/content/ispc-v1.18.0-linux/bin/ispc /content/sum_vector/sum_vector.ispc -o /content/sum_vector/sum_vector.obj -h /content/sum_vector/sum_vector_ispc.h\n",
        "clang++ -o /content/sum_vector/sum_vector /content/sum_vector/sum_vector.cpp -O0 /content/sum_vector/sum_vector.obj -I /content/sum_vector/ -I /content/ispc-v1.18.0-linux/examples/common/"
      ],
      "metadata": {
        "id": "ugYh9svr091p"
      },
      "execution_count": null,
      "outputs": []
    },
    {
      "cell_type": "code",
      "source": [
        "!cd /content/sum_vector/\n",
        "!bash /content/sum_vector/script.sh"
      ],
      "metadata": {
        "id": "iPe9PMo51KP6"
      },
      "execution_count": null,
      "outputs": []
    },
    {
      "cell_type": "markdown",
      "source": [
        "# Code execution"
      ],
      "metadata": {
        "id": "4jUpI4CrfwOw"
      }
    },
    {
      "cell_type": "code",
      "source": [
        "!/content/sum_vector/sum_vector"
      ],
      "metadata": {
        "id": "JKECsif91RDq"
      },
      "execution_count": null,
      "outputs": []
    }
  ]
}