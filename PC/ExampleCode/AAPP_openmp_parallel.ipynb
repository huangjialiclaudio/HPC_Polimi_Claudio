{
  "cells": [
    {
      "cell_type": "markdown",
      "metadata": {
        "id": "ANLb8pm8mFE3"
      },
      "source": [
        "# Applied parallel patterns\n",
        "\n",
        "This colab provides the source code of the application examples described in the related lecture.\n",
        "\n",
        "\n",
        "## How to use the example in this notebook\n",
        "\n",
        "All the examples use CMake as a building system. You can use the cells below to compile and run examples. If you want to play, you can edit any source files in colab by clicking on the folder icon on the left toolbar.\n",
        "\n",
        "> **NOTE**: before running any example, you need to bootstrap the environment\n",
        "\n",
        "For the most complex example, we provide a skeleton with a serial implementation that you can use as a starting point.\n",
        "We also provide a possible solution to the problem."
      ]
    },
    {
      "cell_type": "markdown",
      "metadata": {
        "id": "ruIzcK3pmFE5"
      },
      "source": [
        "## Setup\n",
        "\n",
        "These step are required to initialize the environment."
      ]
    },
    {
      "cell_type": "markdown",
      "metadata": {
        "id": "Ze4LASjimFE6"
      },
      "source": [
        "### Prepare the environment\n",
        "\n",
        "The following cell will install the required software along with downloading the application sources"
      ]
    },
    {
      "cell_type": "code",
      "execution_count": null,
      "metadata": {
        "vscode": {
          "languageId": "shellscript"
        },
        "id": "Yxorcj3DmFE7"
      },
      "outputs": [],
      "source": [
        "!apt install gcc cmake\n",
        "!if [ ! -d \"map\" ]; then wget -O examples.tar.bz https://drive.google.com/uc?id=1O71u93WSy2oHwmyDo33W0ForYeTv0dqP && tar -xf examples.tar.bz && rm examples.tar.bz; fi"
      ]
    },
    {
      "cell_type": "markdown",
      "metadata": {
        "id": "zWLgu1yfmFE8"
      },
      "source": [
        "## Restore the environment\n",
        "\n",
        "If you want to remove all the examples to restart playing with the code, you can execute the following cell."
      ]
    },
    {
      "cell_type": "code",
      "execution_count": null,
      "metadata": {
        "vscode": {
          "languageId": "shellscript"
        },
        "id": "GpkO9dppmFE8"
      },
      "outputs": [],
      "source": [
        "!rm -rf map pmap pscan ptree reduction scan"
      ]
    },
    {
      "cell_type": "markdown",
      "metadata": {
        "id": "E2T9724cmFE8"
      },
      "source": [
        "## Map parallel pattern\n",
        "\n",
        "This application implement the Single Precision A X plus Y (SAXPY) computation kernel, which is defined by three vectors with the following relationship: $xz[i] = a \\cdot x[i] + y[i]$.\n",
        "\n",
        "### Serial version"
      ]
    },
    {
      "cell_type": "code",
      "execution_count": null,
      "metadata": {
        "vscode": {
          "languageId": "shellscript"
        },
        "id": "0FBOILg6mFE9"
      },
      "outputs": [],
      "source": [
        "!cmake -S /content/map -B /content/map/build\n",
        "!cmake --build /content/map/build\n",
        "!/content/map/build/main"
      ]
    },
    {
      "cell_type": "markdown",
      "metadata": {
        "id": "qXwNAOV1mFE9"
      },
      "source": [
        "### Parallel solution"
      ]
    },
    {
      "cell_type": "code",
      "execution_count": null,
      "metadata": {
        "vscode": {
          "languageId": "shellscript"
        },
        "id": "y26JXE6OmFE9"
      },
      "outputs": [],
      "source": [
        "!cmake -S /content/pmap -B /content/pmap/build\n",
        "!cmake --build /content/pmap/build\n",
        "!/content/pmap/build/main"
      ]
    },
    {
      "cell_type": "markdown",
      "metadata": {
        "id": "2ziNXtjHmFE-"
      },
      "source": [
        "## Reduce parallel pattern\n",
        "\n",
        "This example changes the previous application by introducing an accumulation variable for all the $z[i]$ elements\n",
        "\n",
        "### Parallel version"
      ]
    },
    {
      "cell_type": "code",
      "execution_count": null,
      "metadata": {
        "vscode": {
          "languageId": "shellscript"
        },
        "id": "KEqaSOyjmFE-"
      },
      "outputs": [],
      "source": [
        "!cmake -S /content/reduction -B /content/reduction/build\n",
        "!cmake --build /content/reduction/build\n",
        "!/content/reduction/build/main"
      ]
    },
    {
      "cell_type": "markdown",
      "metadata": {
        "id": "Qd6s50mgmFE-"
      },
      "source": [
        "## Workpile parallel pattern\n",
        "\n",
        "This application generalize the map pattern, for the scenario where the number of tasks is not known.\n",
        "In particular, we use a tree exploration example\n",
        "\n",
        "### Serial version"
      ]
    },
    {
      "cell_type": "code",
      "execution_count": null,
      "metadata": {
        "vscode": {
          "languageId": "shellscript"
        },
        "id": "QXXfpM5qmFE-"
      },
      "outputs": [],
      "source": [
        "!cmake -S /content/tree -B /content/tree/build\n",
        "!cmake --build /content/tree/build\n",
        "!/content/tree/build/main"
      ]
    },
    {
      "cell_type": "markdown",
      "metadata": {
        "id": "2RaEBzBYmFE_"
      },
      "source": [
        "### Parallel version"
      ]
    },
    {
      "cell_type": "code",
      "execution_count": null,
      "metadata": {
        "vscode": {
          "languageId": "shellscript"
        },
        "id": "5GbVpJBMmFE_"
      },
      "outputs": [],
      "source": [
        "!cmake -S /content/ptree -B /content/ptree/build\n",
        "!cmake --build /content/ptree/build\n",
        "!/content/ptree/build/main"
      ]
    },
    {
      "cell_type": "markdown",
      "metadata": {
        "id": "I4AX_C2FmFE_"
      },
      "source": [
        "## Scan parallel pattern\n",
        "\n",
        "This application extensd the reduction pattern, where we need to store also all the intermediate values.\n",
        "For this example we consider the `+` operation to apply to the input vectors.\n",
        "\n",
        "### Serial version"
      ]
    },
    {
      "cell_type": "code",
      "execution_count": null,
      "metadata": {
        "vscode": {
          "languageId": "shellscript"
        },
        "id": "zpqa9K4zmFFA"
      },
      "outputs": [],
      "source": [
        "!cmake -S /content/scan -B /content/scan/build\n",
        "!cmake --build /content/scan/build\n",
        "!/content/scan/build/main"
      ]
    },
    {
      "cell_type": "markdown",
      "metadata": {
        "id": "LnW8YK7GmFFA"
      },
      "source": [
        "### Parallel version"
      ]
    },
    {
      "cell_type": "code",
      "execution_count": null,
      "metadata": {
        "vscode": {
          "languageId": "shellscript"
        },
        "id": "Fg2f7YPHmFFA"
      },
      "outputs": [],
      "source": [
        "!cmake -S /content/pscan -B /content/pscan/build\n",
        "!cmake --build /content/pscan/build\n",
        "!/content/pscan/build/main"
      ]
    }
  ],
  "metadata": {
    "language_info": {
      "name": "python"
    },
    "colab": {
      "provenance": []
    },
    "kernelspec": {
      "name": "python3",
      "display_name": "Python 3"
    }
  },
  "nbformat": 4,
  "nbformat_minor": 0
}